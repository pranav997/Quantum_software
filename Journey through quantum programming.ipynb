{
 "cells": [
  {
   "cell_type": "markdown",
   "id": "f43a2a9d",
   "metadata": {},
   "source": [
    "# My Journey through Quantum Programming\n",
    "My background is in physics, so I have always shyed away from software engineering related stuff for quite a while. But now I have decided to take the problem head on. I understand coding is just another problem solving technique, where instead of english and mathematics, we deal with programming languages and computer architecture. To become an efficient quantum programmer, I have to learn many tools and I would illustrate my journey through that in these jupyter notebooks"
   ]
  },
  {
   "cell_type": "markdown",
   "id": "285ad377",
   "metadata": {},
   "source": [
    "## Git /Git-hub/ Git-Lab\n",
    "First and foremost, I should learn version control. Git is a version control software which makes it easier to store files on the server, people can remember their edits to the file, and makes it easier to work on a project as a team.\n",
    "\n",
    "# My first"
   ]
  },
  {
   "cell_type": "code",
   "execution_count": null,
   "id": "de0ed7b0",
   "metadata": {},
   "outputs": [],
   "source": []
  }
 ],
 "metadata": {
  "kernelspec": {
   "display_name": "Python 3 (ipykernel)",
   "language": "python",
   "name": "python3"
  },
  "language_info": {
   "codemirror_mode": {
    "name": "ipython",
    "version": 3
   },
   "file_extension": ".py",
   "mimetype": "text/x-python",
   "name": "python",
   "nbconvert_exporter": "python",
   "pygments_lexer": "ipython3",
   "version": "3.7.11"
  }
 },
 "nbformat": 4,
 "nbformat_minor": 5
}
