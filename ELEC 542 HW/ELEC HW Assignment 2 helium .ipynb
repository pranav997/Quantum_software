{
 "cells": [
  {
   "cell_type": "code",
   "execution_count": 89,
   "id": "07443e06",
   "metadata": {},
   "outputs": [],
   "source": [
    "import numpy as np\n",
    "from scipy import constants as const\n",
    "from scipy import sparse as sparse\n",
    "from scipy.sparse.linalg import eigsh\n",
    "from matplotlib import pyplot as plt\n",
    " \n",
    "N = 500\n",
    "l = 0\n",
    "r = np.linspace(2e-9, 0.0, N, endpoint=False)\n",
    "r=r*1.88973e10"
   ]
  },
  {
   "cell_type": "code",
   "execution_count": 90,
   "id": "bd2cc579",
   "metadata": {},
   "outputs": [],
   "source": [
    "potential = 1/r\n",
    "potential_term = sparse.diags((potential))\n",
    "\n",
    "angular = l * (l + 1) / r**2\n",
    "angular_term = sparse.diags((angular))\n",
    "h = r[1] - r[0]\n",
    "main_diag = -2.0 / h**2 * np.ones(N)     \n",
    "off_diag  =  1.0 / h**2 * np.ones(N - 1)\n",
    "laplace_term = sparse.diags([main_diag, off_diag, off_diag], (0, -1, 1))\n",
    "\n",
    "###################\n",
    "\n",
    "##############\n",
    "hamiltonian = -0.5* (laplace_term - angular_term) - potential_term \n"
   ]
  },
  {
   "cell_type": "code",
   "execution_count": 91,
   "id": "9cd20d7c",
   "metadata": {},
   "outputs": [],
   "source": [
    "\"\"\" solve eigenproblem \"\"\"\n",
    "number_of_eigenvalues = 20\n",
    "eigenvalues, eigenvectors = eigsh(hamiltonian, k=number_of_eigenvalues, which='SM')\n",
    " \n",
    "\"\"\" sort eigenvalue and eigenvectors \"\"\"\n",
    "psi = np.array([x for _, x in sorted(zip(eigenvalues, eigenvectors.T), key=lambda pair: pair[0])])\n",
    "eigenvalues = 2*np.sort(eigenvalues)\n",
    " \n",
    "\"\"\" compute probability density for each eigenvector \"\"\"\n",
    "densities = [np.absolute(psi[i, :])**2 for i in range(len(eigenvalues))]\n"
   ]
  },
  {
   "cell_type": "code",
   "execution_count": 92,
   "id": "397d654f",
   "metadata": {},
   "outputs": [
    {
     "data": {
      "image/png": "[encoded data removed]",
      "text/plain": [
       "<Figure size 432x288 with 1 Axes>"
      ]
     },
     "metadata": {
      "needs_background": "light"
     },
     "output_type": "display_data"
    }
   ],
   "source": [
    "def plot(r, densities, eigenvalues):\n",
    "    plt.xlabel('x ($\\\\mathrm{\\AA}$)')\n",
    "    plt.ylabel('probability density ($\\\\mathrm{\\AA}^{-1}$)')\n",
    "\n",
    "     \n",
    "    energies = ['E = {: >5.2f} eV'.format(eigenvalues[i].real) for i in range(3)]\n",
    "    plt.plot(r , densities[0], color='blue',  label=energies[0])\n",
    "    plt.plot(r , densities[1], color='green', label=energies[1])\n",
    "    plt.plot(r , densities[2], color='red',   label=energies[2])\n",
    "     \n",
    "    plt.legend()\n",
    "    plt.show()\n",
    "    return\n",
    " \n",
    "\"\"\" plot results \"\"\"\n",
    "\n",
    "plot(r, densities, eigenvalues)"
   ]
  },
  {
   "cell_type": "code",
   "execution_count": 93,
   "id": "ccedf747",
   "metadata": {},
   "outputs": [
    {
     "data": {
      "text/plain": [
       "array([-0.99857563, -0.24991079, -0.11108601, -0.06015785, -0.01621813,\n",
       "        0.04456502,  0.12217395,  0.2155655 ,  0.32415912,  0.44759484,\n",
       "        0.58562872,  0.73808511,  0.90483196,  1.08576664,  1.28080731,\n",
       "        1.48988711,  1.71295033,  1.94994959,  2.20084387,  2.465597  ])"
      ]
     },
     "execution_count": 93,
     "metadata": {},
     "output_type": "execute_result"
    }
   ],
   "source": [
    "eigenvalues"
   ]
  },
  {
   "cell_type": "code",
   "execution_count": 94,
   "id": "4d65b2e9",
   "metadata": {},
   "outputs": [
    {
     "name": "stdout",
     "output_type": "stream",
     "text": [
      "0.999999999999999\n"
     ]
    }
   ],
   "source": [
    "#######Sanity Check wavefucntions are normalized###########\n",
    "J=0\n",
    "for i in range(500):\n",
    "    J+=(psi[0,i]**2)\n",
    "print(J)"
   ]
  },
  {
   "cell_type": "code",
   "execution_count": 95,
   "id": "8104973d",
   "metadata": {},
   "outputs": [
    {
     "name": "stdout",
     "output_type": "stream",
     "text": [
      "[[1.]]\n"
     ]
    }
   ],
   "source": [
    "#number of basis functions\n",
    "n=1\n",
    "#Calculating overlap matrix\n",
    "S=np.zeros([n,n])\n",
    "for i in range(n):\n",
    "    for j in range(n):\n",
    "            for k in range(500):\n",
    "                S[i,j]+=psi[i,k]*psi[j,k]\n",
    "        \n",
    "print(S)"
   ]
  },
  {
   "cell_type": "code",
   "execution_count": 96,
   "id": "bb42c2fe",
   "metadata": {},
   "outputs": [
    {
     "name": "stdout",
     "output_type": "stream",
     "text": [
      "[[0.5]]\n"
     ]
    }
   ],
   "source": [
    "T=np.zeros([n,n])\n",
    "for i in range(n):\n",
    "    for j in range(n):\n",
    "            for k in range(500):\n",
    "                if j==1:\n",
    "                    l=1\n",
    "                    T[i,j]+=psi[i,k]*psi[j,k]+ l*(l+1)*psi[i,k]*psi[j,k]/(r[k]**2)\n",
    "                elif j==0:\n",
    "                    l=0\n",
    "                    T[i,j]+=psi[i,k]*psi[j,k]+ l*(l+1)*psi[i,k]*psi[j,k]/(r[k]**2)\n",
    "        \n",
    "T=T*0.5\n",
    "print(T)"
   ]
  },
  {
   "cell_type": "code",
   "execution_count": 97,
   "id": "351351f9",
   "metadata": {},
   "outputs": [
    {
     "name": "stdout",
     "output_type": "stream",
     "text": [
      "[[-1.99431064]]\n"
     ]
    }
   ],
   "source": [
    "Vn=np.zeros([n,n])\n",
    "for i in range(n):\n",
    "    for j in range(n):\n",
    "            for k in range(500):\n",
    "                Vn[i,j]+=psi[i,k]*psi[j,k]/(r[k])\n",
    "Z=2 #Helium        \n",
    "Vn=-Z*Vn\n",
    "print(Vn)"
   ]
  },
  {
   "cell_type": "code",
   "execution_count": 98,
   "id": "a4f1d92b",
   "metadata": {},
   "outputs": [
    {
     "name": "stdout",
     "output_type": "stream",
     "text": [
      "energy [-1.49431064]\n",
      "mol orb [[1.]]\n"
     ]
    }
   ],
   "source": [
    "from scipy.linalg import eigh\n",
    "F=T+Vn\n",
    "energy,eigenvec=eigh(F)\n",
    "print(\"energy\",energy)\n",
    "print(\"mol orb\",eigenvec)"
   ]
  },
  {
   "cell_type": "code",
   "execution_count": 99,
   "id": "35199012",
   "metadata": {},
   "outputs": [
    {
     "data": {
      "text/plain": [
       "[<matplotlib.lines.Line2D at 0x7fdeb2825110>]"
      ]
     },
     "execution_count": 99,
     "metadata": {},
     "output_type": "execute_result"
    },
    {
     "data": {
      "image/png": "[encoded data removed]",
      "text/plain": [
       "<Figure size 432x288 with 1 Axes>"
      ]
     },
     "metadata": {
      "needs_background": "light"
     },
     "output_type": "display_data"
    }
   ],
   "source": [
    "bond_mo_orb=-0.96591131*psi[0,:] + 0.29528468*psi[1,:]\n",
    "anti_bond_mo_orb=-0.25887323*psi[0,:]  -0.96591131*psi[1,:]\n",
    "plt.plot(r,bond_mo_orb)\n",
    "plt.plot(r,anti_bond_mo_orb)"
   ]
  },
  {
   "cell_type": "code",
   "execution_count": 100,
   "id": "4efe18d6",
   "metadata": {},
   "outputs": [
    {
     "name": "stdout",
     "output_type": "stream",
     "text": [
      "[[-1.49431064]]\n"
     ]
    }
   ],
   "source": [
    "print(F)"
   ]
  },
  {
   "cell_type": "code",
   "execution_count": 104,
   "id": "f355ce1c",
   "metadata": {},
   "outputs": [
    {
     "data": {
      "text/plain": [
       "<matplotlib.image.AxesImage at 0x7fdeaefd8250>"
      ]
     },
     "execution_count": 104,
     "metadata": {},
     "output_type": "execute_result"
    },
    {
     "data": {
      "image/png": "[encoded data removed]",
      "text/plain": [
       "<Figure size 432x288 with 1 Axes>"
      ]
     },
     "metadata": {
      "needs_background": "light"
     },
     "output_type": "display_data"
    }
   ],
   "source": [
    "N=50\n",
    "def get_potential(x,y,z):\n",
    "    r = np.sqrt(x**2 + y**2 +z**2)\n",
    "    r = np.where(r < 10**(-5), 10**(-5), r)\n",
    "    V = 1/ r\n",
    "    return -V\n",
    "X,Y,Z= np.meshgrid(np.linspace(-1,1,N, dtype=float),\n",
    "                   np.linspace(-1,1,N, dtype=float),\n",
    "                  np.linspace(-1,1,N, dtype=float))\n",
    "V= get_potential(X,Y,Z)\n",
    "plt.imshow(V[:,0,:])"
   ]
  },
  {
   "cell_type": "code",
   "execution_count": 108,
   "id": "69b779d4",
   "metadata": {},
   "outputs": [],
   "source": [
    "# diag = np.ones([N])\n",
    "# diags = np.array([diag, -2*diag, diag])\n",
    "# D = sparse.spdiags(diags, np.array([-1,0,1]), N, N)\n",
    "# T = -1/2 * sparse.kronsum(D,D,D)\n",
    "# U = sparse.diags(V.reshape(N**3), (0))\n",
    "# H = T+U\n",
    "from scipy.sparse import diags,kron\n",
    "from scipy.sparse.linalg import eigs\n",
    "I=np.eye(N)\n",
    "T_=diags([-2.,1.,1.],[0,-1,1], shape=(N,N))*(-0.5)\n",
    "T=kron(T_,kron(I,I))+kron(I,kron(I,T_))+kron(I,kron(T_,I))\n",
    "U = sparse.diags(V.reshape(N**3), (0))\n",
    "H = T+U"
   ]
  },
  {
   "cell_type": "code",
   "execution_count": 109,
   "id": "804f041f",
   "metadata": {},
   "outputs": [
    {
     "ename": "KeyError",
     "evalue": "\"Unrecognized options: {'target'}. Known options are dict_keys(['_nrt', 'boundscheck', 'debug', 'error_model', 'fastmath', 'forceinline', 'forceobj', 'inline', 'looplift', 'no_cfunc_wrapper', 'no_cpython_wrapper', 'no_rewrites', 'nogil', 'nopython', 'parallel', 'target_backend'])\"",
     "output_type": "error",
     "traceback": [
      "\u001b[0;31m---------------------------------------------------------------------------\u001b[0m",
      "\u001b[0;31mKeyError\u001b[0m                                  Traceback (most recent call last)",
      "\u001b[0;32m/var/folders/ln/l8wwnnnx6blccp6x3y8b3g_00000gn/T/ipykernel_24307/3960620635.py\u001b[0m in \u001b[0;36m<module>\u001b[0;34m\u001b[0m\n\u001b[1;32m      8\u001b[0m \u001b[0;34m\u001b[0m\u001b[0m\n\u001b[1;32m      9\u001b[0m \u001b[0mt1\u001b[0m \u001b[0;34m=\u001b[0m \u001b[0mtime\u001b[0m\u001b[0;34m(\u001b[0m\u001b[0;34m)\u001b[0m\u001b[0;34m\u001b[0m\u001b[0;34m\u001b[0m\u001b[0m\n\u001b[0;32m---> 10\u001b[0;31m \u001b[0mprint\u001b[0m\u001b[0;34m(\u001b[0m\u001b[0meigens\u001b[0m\u001b[0;34m(\u001b[0m\u001b[0mH\u001b[0m\u001b[0;34m)\u001b[0m\u001b[0;34m)\u001b[0m\u001b[0;34m\u001b[0m\u001b[0;34m\u001b[0m\u001b[0m\n\u001b[0m\u001b[1;32m     11\u001b[0m \u001b[0mt2\u001b[0m \u001b[0;34m=\u001b[0m \u001b[0mtime\u001b[0m\u001b[0;34m(\u001b[0m\u001b[0;34m)\u001b[0m\u001b[0;34m\u001b[0m\u001b[0;34m\u001b[0m\u001b[0m\n\u001b[1;32m     12\u001b[0m \u001b[0mprint\u001b[0m\u001b[0;34m(\u001b[0m\u001b[0;34m\"t: \"\u001b[0m\u001b[0;34m,\u001b[0m \u001b[0mt2\u001b[0m \u001b[0;34m-\u001b[0m \u001b[0mt1\u001b[0m\u001b[0;34m)\u001b[0m\u001b[0;34m\u001b[0m\u001b[0;34m\u001b[0m\u001b[0m\n",
      "\u001b[0;32m~/opt/anaconda3/envs/pyhome/lib/python3.7/site-packages/numba/core/dispatcher.py\u001b[0m in \u001b[0;36m_compile_for_args\u001b[0;34m(self, *args, **kws)\u001b[0m\n\u001b[1;32m    485\u001b[0m                     \u001b[0me\u001b[0m\u001b[0;34m.\u001b[0m\u001b[0mpatch_message\u001b[0m\u001b[0;34m(\u001b[0m\u001b[0;34m'\\n'\u001b[0m\u001b[0;34m.\u001b[0m\u001b[0mjoin\u001b[0m\u001b[0;34m(\u001b[0m\u001b[0;34m(\u001b[0m\u001b[0mstr\u001b[0m\u001b[0;34m(\u001b[0m\u001b[0me\u001b[0m\u001b[0;34m)\u001b[0m\u001b[0;34m.\u001b[0m\u001b[0mrstrip\u001b[0m\u001b[0;34m(\u001b[0m\u001b[0;34m)\u001b[0m\u001b[0;34m,\u001b[0m \u001b[0mhelp_msg\u001b[0m\u001b[0;34m)\u001b[0m\u001b[0;34m)\u001b[0m\u001b[0;34m)\u001b[0m\u001b[0;34m\u001b[0m\u001b[0;34m\u001b[0m\u001b[0m\n\u001b[1;32m    486\u001b[0m             \u001b[0;31m# ignore the FULL_TRACEBACKS config, this needs reporting!\u001b[0m\u001b[0;34m\u001b[0m\u001b[0;34m\u001b[0m\u001b[0;34m\u001b[0m\u001b[0m\n\u001b[0;32m--> 487\u001b[0;31m             \u001b[0;32mraise\u001b[0m \u001b[0me\u001b[0m\u001b[0;34m\u001b[0m\u001b[0;34m\u001b[0m\u001b[0m\n\u001b[0m\u001b[1;32m    488\u001b[0m         \u001b[0;32mfinally\u001b[0m\u001b[0;34m:\u001b[0m\u001b[0;34m\u001b[0m\u001b[0;34m\u001b[0m\u001b[0m\n\u001b[1;32m    489\u001b[0m             \u001b[0mself\u001b[0m\u001b[0;34m.\u001b[0m\u001b[0m_types_active_call\u001b[0m \u001b[0;34m=\u001b[0m \u001b[0;34m[\u001b[0m\u001b[0;34m]\u001b[0m\u001b[0;34m\u001b[0m\u001b[0;34m\u001b[0m\u001b[0m\n",
      "\u001b[0;32m~/opt/anaconda3/envs/pyhome/lib/python3.7/site-packages/numba/core/dispatcher.py\u001b[0m in \u001b[0;36m_compile_for_args\u001b[0;34m(self, *args, **kws)\u001b[0m\n\u001b[1;32m    418\u001b[0m         \u001b[0mreturn_val\u001b[0m \u001b[0;34m=\u001b[0m \u001b[0;32mNone\u001b[0m\u001b[0;34m\u001b[0m\u001b[0;34m\u001b[0m\u001b[0m\n\u001b[1;32m    419\u001b[0m         \u001b[0;32mtry\u001b[0m\u001b[0;34m:\u001b[0m\u001b[0;34m\u001b[0m\u001b[0;34m\u001b[0m\u001b[0m\n\u001b[0;32m--> 420\u001b[0;31m             \u001b[0mreturn_val\u001b[0m \u001b[0;34m=\u001b[0m \u001b[0mself\u001b[0m\u001b[0;34m.\u001b[0m\u001b[0mcompile\u001b[0m\u001b[0;34m(\u001b[0m\u001b[0mtuple\u001b[0m\u001b[0;34m(\u001b[0m\u001b[0margtypes\u001b[0m\u001b[0;34m)\u001b[0m\u001b[0;34m)\u001b[0m\u001b[0;34m\u001b[0m\u001b[0;34m\u001b[0m\u001b[0m\n\u001b[0m\u001b[1;32m    421\u001b[0m         \u001b[0;32mexcept\u001b[0m \u001b[0merrors\u001b[0m\u001b[0;34m.\u001b[0m\u001b[0mForceLiteralArg\u001b[0m \u001b[0;32mas\u001b[0m \u001b[0me\u001b[0m\u001b[0;34m:\u001b[0m\u001b[0;34m\u001b[0m\u001b[0;34m\u001b[0m\u001b[0m\n\u001b[1;32m    422\u001b[0m             \u001b[0;31m# Received request for compiler re-entry with the list of arguments\u001b[0m\u001b[0;34m\u001b[0m\u001b[0;34m\u001b[0m\u001b[0;34m\u001b[0m\u001b[0m\n",
      "\u001b[0;32m~/opt/anaconda3/envs/pyhome/lib/python3.7/site-packages/numba/core/dispatcher.py\u001b[0m in \u001b[0;36mcompile\u001b[0;34m(self, sig)\u001b[0m\n\u001b[1;32m    963\u001b[0m                 \u001b[0;32mwith\u001b[0m \u001b[0mev\u001b[0m\u001b[0;34m.\u001b[0m\u001b[0mtrigger_event\u001b[0m\u001b[0;34m(\u001b[0m\u001b[0;34m\"numba:compile\"\u001b[0m\u001b[0;34m,\u001b[0m \u001b[0mdata\u001b[0m\u001b[0;34m=\u001b[0m\u001b[0mev_details\u001b[0m\u001b[0;34m)\u001b[0m\u001b[0;34m:\u001b[0m\u001b[0;34m\u001b[0m\u001b[0;34m\u001b[0m\u001b[0m\n\u001b[1;32m    964\u001b[0m                     \u001b[0;32mtry\u001b[0m\u001b[0;34m:\u001b[0m\u001b[0;34m\u001b[0m\u001b[0;34m\u001b[0m\u001b[0m\n\u001b[0;32m--> 965\u001b[0;31m                         \u001b[0mcres\u001b[0m \u001b[0;34m=\u001b[0m \u001b[0mself\u001b[0m\u001b[0;34m.\u001b[0m\u001b[0m_compiler\u001b[0m\u001b[0;34m.\u001b[0m\u001b[0mcompile\u001b[0m\u001b[0;34m(\u001b[0m\u001b[0margs\u001b[0m\u001b[0;34m,\u001b[0m \u001b[0mreturn_type\u001b[0m\u001b[0;34m)\u001b[0m\u001b[0;34m\u001b[0m\u001b[0;34m\u001b[0m\u001b[0m\n\u001b[0m\u001b[1;32m    966\u001b[0m                     \u001b[0;32mexcept\u001b[0m \u001b[0merrors\u001b[0m\u001b[0;34m.\u001b[0m\u001b[0mForceLiteralArg\u001b[0m \u001b[0;32mas\u001b[0m \u001b[0me\u001b[0m\u001b[0;34m:\u001b[0m\u001b[0;34m\u001b[0m\u001b[0;34m\u001b[0m\u001b[0m\n\u001b[1;32m    967\u001b[0m                         \u001b[0;32mdef\u001b[0m \u001b[0mfolded\u001b[0m\u001b[0;34m(\u001b[0m\u001b[0margs\u001b[0m\u001b[0;34m,\u001b[0m \u001b[0mkws\u001b[0m\u001b[0;34m)\u001b[0m\u001b[0;34m:\u001b[0m\u001b[0;34m\u001b[0m\u001b[0;34m\u001b[0m\u001b[0m\n",
      "\u001b[0;32m~/opt/anaconda3/envs/pyhome/lib/python3.7/site-packages/numba/core/dispatcher.py\u001b[0m in \u001b[0;36mcompile\u001b[0;34m(self, args, return_type)\u001b[0m\n\u001b[1;32m    123\u001b[0m \u001b[0;34m\u001b[0m\u001b[0m\n\u001b[1;32m    124\u001b[0m     \u001b[0;32mdef\u001b[0m \u001b[0mcompile\u001b[0m\u001b[0;34m(\u001b[0m\u001b[0mself\u001b[0m\u001b[0;34m,\u001b[0m \u001b[0margs\u001b[0m\u001b[0;34m,\u001b[0m \u001b[0mreturn_type\u001b[0m\u001b[0;34m)\u001b[0m\u001b[0;34m:\u001b[0m\u001b[0;34m\u001b[0m\u001b[0;34m\u001b[0m\u001b[0m\n\u001b[0;32m--> 125\u001b[0;31m         \u001b[0mstatus\u001b[0m\u001b[0;34m,\u001b[0m \u001b[0mretval\u001b[0m \u001b[0;34m=\u001b[0m \u001b[0mself\u001b[0m\u001b[0;34m.\u001b[0m\u001b[0m_compile_cached\u001b[0m\u001b[0;34m(\u001b[0m\u001b[0margs\u001b[0m\u001b[0;34m,\u001b[0m \u001b[0mreturn_type\u001b[0m\u001b[0;34m)\u001b[0m\u001b[0;34m\u001b[0m\u001b[0;34m\u001b[0m\u001b[0m\n\u001b[0m\u001b[1;32m    126\u001b[0m         \u001b[0;32mif\u001b[0m \u001b[0mstatus\u001b[0m\u001b[0;34m:\u001b[0m\u001b[0;34m\u001b[0m\u001b[0;34m\u001b[0m\u001b[0m\n\u001b[1;32m    127\u001b[0m             \u001b[0;32mreturn\u001b[0m \u001b[0mretval\u001b[0m\u001b[0;34m\u001b[0m\u001b[0;34m\u001b[0m\u001b[0m\n",
      "\u001b[0;32m~/opt/anaconda3/envs/pyhome/lib/python3.7/site-packages/numba/core/dispatcher.py\u001b[0m in \u001b[0;36m_compile_cached\u001b[0;34m(self, args, return_type)\u001b[0m\n\u001b[1;32m    137\u001b[0m \u001b[0;34m\u001b[0m\u001b[0m\n\u001b[1;32m    138\u001b[0m         \u001b[0;32mtry\u001b[0m\u001b[0;34m:\u001b[0m\u001b[0;34m\u001b[0m\u001b[0;34m\u001b[0m\u001b[0m\n\u001b[0;32m--> 139\u001b[0;31m             \u001b[0mretval\u001b[0m \u001b[0;34m=\u001b[0m \u001b[0mself\u001b[0m\u001b[0;34m.\u001b[0m\u001b[0m_compile_core\u001b[0m\u001b[0;34m(\u001b[0m\u001b[0margs\u001b[0m\u001b[0;34m,\u001b[0m \u001b[0mreturn_type\u001b[0m\u001b[0;34m)\u001b[0m\u001b[0;34m\u001b[0m\u001b[0;34m\u001b[0m\u001b[0m\n\u001b[0m\u001b[1;32m    140\u001b[0m         \u001b[0;32mexcept\u001b[0m \u001b[0merrors\u001b[0m\u001b[0;34m.\u001b[0m\u001b[0mTypingError\u001b[0m \u001b[0;32mas\u001b[0m \u001b[0me\u001b[0m\u001b[0;34m:\u001b[0m\u001b[0;34m\u001b[0m\u001b[0;34m\u001b[0m\u001b[0m\n\u001b[1;32m    141\u001b[0m             \u001b[0mself\u001b[0m\u001b[0;34m.\u001b[0m\u001b[0m_failed_cache\u001b[0m\u001b[0;34m[\u001b[0m\u001b[0mkey\u001b[0m\u001b[0;34m]\u001b[0m \u001b[0;34m=\u001b[0m \u001b[0me\u001b[0m\u001b[0;34m\u001b[0m\u001b[0;34m\u001b[0m\u001b[0m\n",
      "\u001b[0;32m~/opt/anaconda3/envs/pyhome/lib/python3.7/site-packages/numba/core/dispatcher.py\u001b[0m in \u001b[0;36m_compile_core\u001b[0;34m(self, args, return_type)\u001b[0m\n\u001b[1;32m    146\u001b[0m     \u001b[0;32mdef\u001b[0m \u001b[0m_compile_core\u001b[0m\u001b[0;34m(\u001b[0m\u001b[0mself\u001b[0m\u001b[0;34m,\u001b[0m \u001b[0margs\u001b[0m\u001b[0;34m,\u001b[0m \u001b[0mreturn_type\u001b[0m\u001b[0;34m)\u001b[0m\u001b[0;34m:\u001b[0m\u001b[0;34m\u001b[0m\u001b[0;34m\u001b[0m\u001b[0m\n\u001b[1;32m    147\u001b[0m         \u001b[0mflags\u001b[0m \u001b[0;34m=\u001b[0m \u001b[0mcompiler\u001b[0m\u001b[0;34m.\u001b[0m\u001b[0mFlags\u001b[0m\u001b[0;34m(\u001b[0m\u001b[0;34m)\u001b[0m\u001b[0;34m\u001b[0m\u001b[0;34m\u001b[0m\u001b[0m\n\u001b[0;32m--> 148\u001b[0;31m         \u001b[0mself\u001b[0m\u001b[0;34m.\u001b[0m\u001b[0mtargetdescr\u001b[0m\u001b[0;34m.\u001b[0m\u001b[0moptions\u001b[0m\u001b[0;34m.\u001b[0m\u001b[0mparse_as_flags\u001b[0m\u001b[0;34m(\u001b[0m\u001b[0mflags\u001b[0m\u001b[0;34m,\u001b[0m \u001b[0mself\u001b[0m\u001b[0;34m.\u001b[0m\u001b[0mtargetoptions\u001b[0m\u001b[0;34m)\u001b[0m\u001b[0;34m\u001b[0m\u001b[0;34m\u001b[0m\u001b[0m\n\u001b[0m\u001b[1;32m    149\u001b[0m         \u001b[0mflags\u001b[0m \u001b[0;34m=\u001b[0m \u001b[0mself\u001b[0m\u001b[0;34m.\u001b[0m\u001b[0m_customize_flags\u001b[0m\u001b[0;34m(\u001b[0m\u001b[0mflags\u001b[0m\u001b[0;34m)\u001b[0m\u001b[0;34m\u001b[0m\u001b[0;34m\u001b[0m\u001b[0m\n\u001b[1;32m    150\u001b[0m \u001b[0;34m\u001b[0m\u001b[0m\n",
      "\u001b[0;32m~/opt/anaconda3/envs/pyhome/lib/python3.7/site-packages/numba/core/options.py\u001b[0m in \u001b[0;36mparse_as_flags\u001b[0;34m(cls, flags, options)\u001b[0m\n\u001b[1;32m     39\u001b[0m         \"\"\"\n\u001b[1;32m     40\u001b[0m         \u001b[0mopt\u001b[0m \u001b[0;34m=\u001b[0m \u001b[0mcls\u001b[0m\u001b[0;34m(\u001b[0m\u001b[0;34m)\u001b[0m\u001b[0;34m\u001b[0m\u001b[0;34m\u001b[0m\u001b[0m\n\u001b[0;32m---> 41\u001b[0;31m         \u001b[0mopt\u001b[0m\u001b[0;34m.\u001b[0m\u001b[0m_apply\u001b[0m\u001b[0;34m(\u001b[0m\u001b[0mflags\u001b[0m\u001b[0;34m,\u001b[0m \u001b[0moptions\u001b[0m\u001b[0;34m)\u001b[0m\u001b[0;34m\u001b[0m\u001b[0;34m\u001b[0m\u001b[0m\n\u001b[0m\u001b[1;32m     42\u001b[0m         \u001b[0mopt\u001b[0m\u001b[0;34m.\u001b[0m\u001b[0mfinalize\u001b[0m\u001b[0;34m(\u001b[0m\u001b[0mflags\u001b[0m\u001b[0;34m,\u001b[0m \u001b[0moptions\u001b[0m\u001b[0;34m)\u001b[0m\u001b[0;34m\u001b[0m\u001b[0;34m\u001b[0m\u001b[0m\n\u001b[1;32m     43\u001b[0m         \u001b[0;32mreturn\u001b[0m \u001b[0mflags\u001b[0m\u001b[0;34m\u001b[0m\u001b[0;34m\u001b[0m\u001b[0m\n",
      "\u001b[0;32m~/opt/anaconda3/envs/pyhome/lib/python3.7/site-packages/numba/core/options.py\u001b[0m in \u001b[0;36m_apply\u001b[0;34m(self, flags, options)\u001b[0m\n\u001b[1;32m     64\u001b[0m             m = (f\"Unrecognized options: {unused}. \"\n\u001b[1;32m     65\u001b[0m                  f\"Known options are {mappings.keys()}\")\n\u001b[0;32m---> 66\u001b[0;31m             \u001b[0;32mraise\u001b[0m \u001b[0mKeyError\u001b[0m\u001b[0;34m(\u001b[0m\u001b[0mm\u001b[0m\u001b[0;34m)\u001b[0m\u001b[0;34m\u001b[0m\u001b[0;34m\u001b[0m\u001b[0m\n\u001b[0m\u001b[1;32m     67\u001b[0m \u001b[0;34m\u001b[0m\u001b[0m\n\u001b[1;32m     68\u001b[0m \u001b[0;34m\u001b[0m\u001b[0m\n",
      "\u001b[0;31mKeyError\u001b[0m: \"Unrecognized options: {'target'}. Known options are dict_keys(['_nrt', 'boundscheck', 'debug', 'error_model', 'fastmath', 'forceinline', 'forceobj', 'inline', 'looplift', 'no_cfunc_wrapper', 'no_cpython_wrapper', 'no_rewrites', 'nogil', 'nopython', 'parallel', 'target_backend'])\""
     ]
    }
   ],
   "source": [
    "from numba import jit, cuda\n",
    "import numpy as np\n",
    "from time import time\n",
    "@jit(target=\"cuda\")\n",
    "def eigens(a):\n",
    "    val, vec = eigs(a)\n",
    "    return val, vec\n",
    "\n",
    "t1 = time()\n",
    "print(eigens(H))\n",
    "t2 = time()\n",
    "print(\"t: \", t2 - t1)"
   ]
  },
  {
   "cell_type": "code",
   "execution_count": 174,
   "id": "d92aab2b",
   "metadata": {},
   "outputs": [
    {
     "ename": "KeyboardInterrupt",
     "evalue": "",
     "output_type": "error",
     "traceback": [
      "\u001b[0;31m---------------------------------------------------------------------------\u001b[0m",
      "\u001b[0;31mKeyboardInterrupt\u001b[0m                         Traceback (most recent call last)",
      "\u001b[0;32m/var/folders/ln/l8wwnnnx6blccp6x3y8b3g_00000gn/T/ipykernel_20282/4187961992.py\u001b[0m in \u001b[0;36m<module>\u001b[0;34m\u001b[0m\n\u001b[1;32m      1\u001b[0m \u001b[0mnn\u001b[0m\u001b[0;34m=\u001b[0m\u001b[0;36m10\u001b[0m\u001b[0;34m\u001b[0m\u001b[0;34m\u001b[0m\u001b[0m\n\u001b[0;32m----> 2\u001b[0;31m \u001b[0meigenvalues\u001b[0m\u001b[0;34m,\u001b[0m \u001b[0meigenvectors\u001b[0m \u001b[0;34m=\u001b[0m \u001b[0meigsh\u001b[0m\u001b[0;34m(\u001b[0m\u001b[0mH\u001b[0m\u001b[0;34m,\u001b[0m \u001b[0mk\u001b[0m\u001b[0;34m=\u001b[0m\u001b[0mnn\u001b[0m\u001b[0;34m,\u001b[0m \u001b[0mwhich\u001b[0m\u001b[0;34m=\u001b[0m\u001b[0;34m'SM'\u001b[0m\u001b[0;34m)\u001b[0m\u001b[0;34m\u001b[0m\u001b[0;34m\u001b[0m\u001b[0m\n\u001b[0m\u001b[1;32m      3\u001b[0m \u001b[0;32mdef\u001b[0m \u001b[0mget_e\u001b[0m\u001b[0;34m(\u001b[0m\u001b[0mn\u001b[0m\u001b[0;34m)\u001b[0m\u001b[0;34m:\u001b[0m\u001b[0;34m\u001b[0m\u001b[0;34m\u001b[0m\u001b[0m\n\u001b[1;32m      4\u001b[0m     \u001b[0;32mreturn\u001b[0m \u001b[0meigenvectors\u001b[0m\u001b[0;34m.\u001b[0m\u001b[0mT\u001b[0m\u001b[0;34m[\u001b[0m\u001b[0mn\u001b[0m\u001b[0;34m]\u001b[0m\u001b[0;34m.\u001b[0m\u001b[0mreshape\u001b[0m\u001b[0;34m(\u001b[0m\u001b[0;34m(\u001b[0m\u001b[0mN\u001b[0m\u001b[0;34m,\u001b[0m\u001b[0mN\u001b[0m\u001b[0;34m)\u001b[0m\u001b[0;34m)\u001b[0m\u001b[0;34m\u001b[0m\u001b[0;34m\u001b[0m\u001b[0m\n",
      "\u001b[0;32m~/opt/anaconda3/envs/pyhome/lib/python3.7/site-packages/scipy/sparse/linalg/eigen/arpack/arpack.py\u001b[0m in \u001b[0;36meigsh\u001b[0;34m(A, k, M, sigma, which, v0, ncv, maxiter, tol, return_eigenvectors, Minv, OPinv, mode)\u001b[0m\n\u001b[1;32m   1688\u001b[0m     \u001b[0;32mwith\u001b[0m \u001b[0m_ARPACK_LOCK\u001b[0m\u001b[0;34m:\u001b[0m\u001b[0;34m\u001b[0m\u001b[0;34m\u001b[0m\u001b[0m\n\u001b[1;32m   1689\u001b[0m         \u001b[0;32mwhile\u001b[0m \u001b[0;32mnot\u001b[0m \u001b[0mparams\u001b[0m\u001b[0;34m.\u001b[0m\u001b[0mconverged\u001b[0m\u001b[0;34m:\u001b[0m\u001b[0;34m\u001b[0m\u001b[0;34m\u001b[0m\u001b[0m\n\u001b[0;32m-> 1690\u001b[0;31m             \u001b[0mparams\u001b[0m\u001b[0;34m.\u001b[0m\u001b[0miterate\u001b[0m\u001b[0;34m(\u001b[0m\u001b[0;34m)\u001b[0m\u001b[0;34m\u001b[0m\u001b[0;34m\u001b[0m\u001b[0m\n\u001b[0m\u001b[1;32m   1691\u001b[0m \u001b[0;34m\u001b[0m\u001b[0m\n\u001b[1;32m   1692\u001b[0m         \u001b[0;32mreturn\u001b[0m \u001b[0mparams\u001b[0m\u001b[0;34m.\u001b[0m\u001b[0mextract\u001b[0m\u001b[0;34m(\u001b[0m\u001b[0mreturn_eigenvectors\u001b[0m\u001b[0;34m)\u001b[0m\u001b[0;34m\u001b[0m\u001b[0;34m\u001b[0m\u001b[0m\n",
      "\u001b[0;32m~/opt/anaconda3/envs/pyhome/lib/python3.7/site-packages/scipy/sparse/linalg/eigen/arpack/arpack.py\u001b[0m in \u001b[0;36miterate\u001b[0;34m(self)\u001b[0m\n\u001b[1;32m    536\u001b[0m             self._arpack_solver(self.ido, self.bmat, self.which, self.k,\n\u001b[1;32m    537\u001b[0m                                 \u001b[0mself\u001b[0m\u001b[0;34m.\u001b[0m\u001b[0mtol\u001b[0m\u001b[0;34m,\u001b[0m \u001b[0mself\u001b[0m\u001b[0;34m.\u001b[0m\u001b[0mresid\u001b[0m\u001b[0;34m,\u001b[0m \u001b[0mself\u001b[0m\u001b[0;34m.\u001b[0m\u001b[0mv\u001b[0m\u001b[0;34m,\u001b[0m \u001b[0mself\u001b[0m\u001b[0;34m.\u001b[0m\u001b[0miparam\u001b[0m\u001b[0;34m,\u001b[0m\u001b[0;34m\u001b[0m\u001b[0;34m\u001b[0m\u001b[0m\n\u001b[0;32m--> 538\u001b[0;31m                                 self.ipntr, self.workd, self.workl, self.info)\n\u001b[0m\u001b[1;32m    539\u001b[0m \u001b[0;34m\u001b[0m\u001b[0m\n\u001b[1;32m    540\u001b[0m         \u001b[0mxslice\u001b[0m \u001b[0;34m=\u001b[0m \u001b[0mslice\u001b[0m\u001b[0;34m(\u001b[0m\u001b[0mself\u001b[0m\u001b[0;34m.\u001b[0m\u001b[0mipntr\u001b[0m\u001b[0;34m[\u001b[0m\u001b[0;36m0\u001b[0m\u001b[0;34m]\u001b[0m \u001b[0;34m-\u001b[0m \u001b[0;36m1\u001b[0m\u001b[0;34m,\u001b[0m \u001b[0mself\u001b[0m\u001b[0;34m.\u001b[0m\u001b[0mipntr\u001b[0m\u001b[0;34m[\u001b[0m\u001b[0;36m0\u001b[0m\u001b[0;34m]\u001b[0m \u001b[0;34m-\u001b[0m \u001b[0;36m1\u001b[0m \u001b[0;34m+\u001b[0m \u001b[0mself\u001b[0m\u001b[0;34m.\u001b[0m\u001b[0mn\u001b[0m\u001b[0;34m)\u001b[0m\u001b[0;34m\u001b[0m\u001b[0;34m\u001b[0m\u001b[0m\n",
      "\u001b[0;31mKeyboardInterrupt\u001b[0m: "
     ]
    }
   ],
   "source": [
    "nn=10\n",
    "eigenvalues, eigenvectors = eigsh(H, k=nn, which='SM')\n",
    "def get_e(n):\n",
    "    return eigenvectors.T[n].reshape((N,N))"
   ]
  },
  {
   "cell_type": "code",
   "execution_count": null,
   "id": "d494fe57",
   "metadata": {},
   "outputs": [],
   "source": [
    "plt.bar(np.arange(0,10,1),eigenvalues[0:10])"
   ]
  },
  {
   "cell_type": "code",
   "execution_count": null,
   "id": "26ee0044",
   "metadata": {},
   "outputs": [],
   "source": [
    "N = 150\n",
    "X1, X2 = np.meshgrid(np.linspace(0,1,N, dtype=float),\n",
    "                   np.linspace(0,1,N, dtype=float))"
   ]
  },
  {
   "cell_type": "code",
   "execution_count": null,
   "id": "4dd9c4ae",
   "metadata": {},
   "outputs": [],
   "source": [
    "def get_potential(x,y):\n",
    "    return 0*x\n",
    "#def get_potential(x, y):\n",
    "#    return np.exp(-(x-0.3)**2/(2*0.1**2))*np.exp(-(y-0.3)**2/(2*0.1**2))\n",
    "V = get_potential(X1,X2)"
   ]
  },
  {
   "cell_type": "code",
   "execution_count": null,
   "id": "1bc76740",
   "metadata": {},
   "outputs": [],
   "source": [
    "diag = np.ones([N])\n",
    "diags = np.array([diag, -2*diag, diag])\n",
    "D = sparse.spdiags(diags, np.array([-1,0,1]), N, N)\n",
    "T = -1/2 * sparse.kronsum(D,D)\n",
    "U = sparse.diags(V.reshape(N**2), (0))\n",
    "H = T+U"
   ]
  },
  {
   "cell_type": "code",
   "execution_count": null,
   "id": "9cb098ed",
   "metadata": {},
   "outputs": [],
   "source": [
    "nn=10\n",
    "eigenvalues, eigenvectors = eigsh(H, k=nn, which='SM')\n",
    "def get_e(n):\n",
    "    return eigenvectors.T[n].reshape((N,N))"
   ]
  },
  {
   "cell_type": "code",
   "execution_count": null,
   "id": "f3977c12",
   "metadata": {},
   "outputs": [],
   "source": [
    "#for i in range(1):\n",
    "nn\n",
    "for i in range(nn):\n",
    "    a = (get_e(i) - get_e(i).swapaxes(0,1))/np.sqrt(2)\n",
    "    for k in range(a.shape[0]):\n",
    "        for j in range(a.shape[1]):\n",
    "            if a[k,j]*a[k,j]<10**(-15):\n",
    "                a[k,j]=0\n",
    "    plt.figure(figsize=(9,9))\n",
    "    plt.contourf(X1, X2, a**2, 20)"
   ]
  },
  {
   "cell_type": "code",
   "execution_count": null,
   "id": "396f6eb6",
   "metadata": {},
   "outputs": [],
   "source": [
    "plt.bar(np.arange(0, nn, 1), eigenvalues[0:nn])"
   ]
  },
  {
   "cell_type": "code",
   "execution_count": null,
   "id": "48227422",
   "metadata": {},
   "outputs": [],
   "source": [
    "N = 150\n",
    "X1, X2 = np.meshgrid(np.linspace(0,1,N, dtype=float),\n",
    "                   np.linspace(0,1,N, dtype=float))\n",
    "def get_potential(x,y):\n",
    "    r = np.abs(x - y)\n",
    "    r = np.where(r < 10**(-5), 10**(-5), r)\n",
    "    V = 1/ r\n",
    "    print(r)\n",
    "    return V,r\n",
    "#def get_potential(x, y):\n",
    "#    return np.exp(-(x-0.3)**2/(2*0.1**2))*np.exp(-(y-0.3)**2/(2*0.1**2))\n",
    "V,rr = get_potential(X1,X2)\n",
    "plt.contourf(X1, X2, V, 20)"
   ]
  },
  {
   "cell_type": "code",
   "execution_count": null,
   "id": "35e178de",
   "metadata": {},
   "outputs": [],
   "source": [
    "#plt.imshow(rr)\n",
    "np.min(rr)\n"
   ]
  },
  {
   "cell_type": "code",
   "execution_count": null,
   "id": "31e140ed",
   "metadata": {},
   "outputs": [],
   "source": [
    "diag = np.ones([N])\n",
    "diags = np.array([diag, -2*diag, diag])\n",
    "D = sparse.spdiags(diags, np.array([-1,0,1]), N, N)\n",
    "T = -1/2 * sparse.kronsum(D,D)\n",
    "U = sparse.diags(V.reshape(N**2), (0))\n",
    "H = T+U"
   ]
  },
  {
   "cell_type": "code",
   "execution_count": null,
   "id": "9f4a72e4",
   "metadata": {},
   "outputs": [],
   "source": [
    "nn=10\n",
    "eigenvalues, eigenvectors = eigsh(H, k=nn, which='SM')\n",
    "def get_e(n):\n",
    "    return eigenvectors.T[n].reshape((N,N))\n",
    "plt.contourf(X1, X2, get_e(0)**2, 20)"
   ]
  },
  {
   "cell_type": "code",
   "execution_count": null,
   "id": "d98d26ed",
   "metadata": {},
   "outputs": [],
   "source": [
    "#for i in range(1):\n",
    "nn\n",
    "for i in range(nn):\n",
    "    a = (get_e(i) - get_e(i).swapaxes(0,1))/np.sqrt(2)\n",
    "    for k in range(a.shape[0]):\n",
    "        for j in range(a.shape[1]):\n",
    "            if a[k,j]*a[k,j]<10**(-15):\n",
    "                a[k,j]=0\n",
    "    plt.figure(figsize=(9,9))\n",
    "    plt.contourf(X1, X2, a**2, 20)"
   ]
  },
  {
   "cell_type": "code",
   "execution_count": null,
   "id": "e5871e1e",
   "metadata": {},
   "outputs": [],
   "source": [
    "plt.bar(np.arange(0, nn, 1), eigenvalues[0:nn])\n",
    "plt.ylim(1.1,1.5)"
   ]
  },
  {
   "cell_type": "code",
   "execution_count": null,
   "id": "a036372f",
   "metadata": {},
   "outputs": [],
   "source": [
    "!pip install notebook-as-pdf\n"
   ]
  },
  {
   "cell_type": "code",
   "execution_count": null,
   "id": "6cadb67d",
   "metadata": {},
   "outputs": [],
   "source": [
    "\n"
   ]
  },
  {
   "cell_type": "code",
   "execution_count": null,
   "id": "68df9b90",
   "metadata": {},
   "outputs": [],
   "source": []
  }
 ],
 "metadata": {
  "kernelspec": {
   "display_name": "Python 3 (ipykernel)",
   "language": "python",
   "name": "python3"
  },
  "language_info": {
   "codemirror_mode": {
    "name": "ipython",
    "version": 3
   },
   "file_extension": ".py",
   "mimetype": "text/x-python",
   "name": "python",
   "nbconvert_exporter": "python",
   "pygments_lexer": "ipython3",
   "version": "3.7.11"
  }
 },
 "nbformat": 4,
 "nbformat_minor": 5
}
